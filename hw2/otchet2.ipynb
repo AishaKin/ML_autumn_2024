{
 "cells": [
  {
   "cell_type": "markdown",
   "metadata": {},
   "source": [
    "# Отчёт о выполнении лабораторной работы"
   ]
  },
  {
   "cell_type": "markdown",
   "metadata": {},
   "source": [
    "Дописала недостоющие методы градиентного спуска - функция *gradient_descent* в модуле *optimization* и процедуры линейного поиска - метод *line_search* в классе *LineSearchTool* в модуле *optimization*."
   ]
  },
  {
   "cell_type": "markdown",
   "metadata": {},
   "source": [
    "Сделала оракул логистической регрессии (класс LogRegL2Oracle в модуле oracles). Еще сделала реализацию вспомогательной функции create_log_reg_oracle в модуле oracles"
   ]
  },
  {
   "cell_type": "markdown",
   "metadata": {},
   "source": [
    "Написала подсчет разностных производных (функции grad_finite_diff и hess_finite_diff в модуле oracles)."
   ]
  },
  {
   "cell_type": "markdown",
   "metadata": {},
   "source": [
    "Реализовала метод Ньютона (функция newton в модуле optimization)"
   ]
  },
  {
   "cell_type": "markdown",
   "metadata": {},
   "source": [
    "# 3.1 Эксперимент: Траектория градиентного спуска на квадратичной функции"
   ]
  },
  {
   "cell_type": "markdown",
   "metadata": {},
   "source": [
    "Проанализируйте траекторию градиентного спуска для нескольких квадратичных функций: при думайте две-три квадратичныедвумерныефункции, на которых работа метода будет отличаться, нарисуйте графики с линиями уровня функций и траекториями методов.  \n",
    "\n",
    "Попробуйте ответить на следующий вопрос:Как отличается поведение метода в зависимости от числа обусловленности функции, выбора начальной точки и стратегии выбора шага (константная стратегия, Армихо, Вульф)?\n",
    "\n",
    "Для рисования линий уровня можете воспользоваться функцией `plot_levels`, а для рисования траекторий `plot_trajectory` из файла `plot_trajectory_2d.py`, прилагающегося к заданию. Также обратите внимание, что оракул квадратичной функции `QuadraticOracle` уже реализован в модуле `oracles`. Он реализует функцию $f(x) = (1/2)〈Ax, x〉−〈b, x〉$, где $A∈S^n_{++}, b ∈ R^n$."
   ]
  },
  {
   "cell_type": "code",
   "execution_count": 1,
   "metadata": {},
   "outputs": [],
   "source": [
    "import numpy as np\n",
    "import scipy\n",
    "import matplotlib.pyplot as plt\n",
    "import oracles\n",
    "import optimization\n",
    "import presubmit_tests as pt\n",
    "from plot_trajectory_2d import plot_levels, plot_trajectory\n",
    "from sklearn.datasets import load_svmlight_file"
   ]
  },
  {
   "cell_type": "code",
   "execution_count": 2,
   "metadata": {},
   "outputs": [
    {
     "name": "stdout",
     "output_type": "stream",
     "text": [
      "x = [1 2]\n",
      "Градиент через grad: [-14.5  26. ]\n",
      "Градиент через grad_finite_diff: [-14.50000013  25.99999931]\n",
      "Гессиан через hess:\n",
      "[[ 2.00000000e+00 -7.79748855e-24]\n",
      " [-7.79748855e-24  2.00000000e+00]]\n",
      "Гессиан через hess_finite_diff\n",
      "[[ 2.00003569e+00 -7.10542736e-05]\n",
      " [-7.10542736e-05  1.99989358e+00]]\n",
      "\n",
      "x = [-1 -2]\n",
      "Градиент через grad: [ -7. -14.]\n",
      "Градиент через grad_finite_diff: [ -6.99999987 -14.00000009]\n",
      "Гессиан через hess:\n",
      "[[2.00000000e+00 1.92874985e-22]\n",
      " [1.92874985e-22 2.00000000e+00]]\n",
      "Гессиан через hess_finite_diff\n",
      "[[1.99996464 0.        ]\n",
      " [0.         2.00000017]]\n",
      "\n",
      "x = [3 0]\n",
      "Градиент через grad: [ 6.00000000e+00 -9.34807787e-13]\n",
      "Градиент через grad_finite_diff: [5.99999996 0.        ]\n",
      "Гессиан через hess:\n",
      "[[2.00000000e+00 9.34807787e-14]\n",
      " [9.34807787e-14 2.00000000e+00]]\n",
      "Гессиан через hess_finite_diff\n",
      "[[2.00001793e+00 1.77635684e-05]\n",
      " [1.77635684e-05 2.00000017e+00]]\n",
      "\n"
     ]
    }
   ],
   "source": [
    "A = np.array([[1, 2], [3, -4]])\n",
    "b = np.array([10, 11])\n",
    "regcoef = 2\n",
    "oracle = oracles.create_log_reg_oracle(A, b, regcoef)\n",
    "f = lambda x: oracle.func(x)\n",
    "x = np.array([1, 2])\n",
    "\n",
    "for x in np.array([[1, 2], [-1, -2], [3, 0]]):\n",
    "    print('x =', x)\n",
    "    print('Градиент через grad:', oracle.grad(x))\n",
    "    print('Градиент через grad_finite_diff:', oracles.grad_finite_diff(f, x))\n",
    "    print('Гессиан через hess:')\n",
    "    print(oracle.hess(x))\n",
    "    print('Гессиан через hess_finite_diff')\n",
    "    print(oracles.hess_finite_diff(f, x))\n",
    "    print()"
   ]
  },
  {
   "cell_type": "code",
   "execution_count": 3,
   "metadata": {},
   "outputs": [
    {
     "ename": "AssertionError",
     "evalue": "16.0 != 32.0 within 7 places (16.0 difference)",
     "output_type": "error",
     "traceback": [
      "\u001b[1;31m---------------------------------------------------------------------------\u001b[0m",
      "\u001b[1;31mAssertionError\u001b[0m                            Traceback (most recent call last)",
      "Cell \u001b[1;32mIn[3], line 9\u001b[0m\n\u001b[0;32m      7\u001b[0m pt\u001b[38;5;241m.\u001b[39mtest_hess_finite_diff_1()\n\u001b[0;32m      8\u001b[0m pt\u001b[38;5;241m.\u001b[39mtest_hess_finite_diff_2()\n\u001b[1;32m----> 9\u001b[0m \u001b[43mpt\u001b[49m\u001b[38;5;241;43m.\u001b[39;49m\u001b[43mtest_line_search\u001b[49m\u001b[43m(\u001b[49m\u001b[43m)\u001b[49m\n\u001b[0;32m     10\u001b[0m pt\u001b[38;5;241m.\u001b[39mtest_gd_basic()\n\u001b[0;32m     11\u001b[0m pt\u001b[38;5;241m.\u001b[39mtest_newton_basic()\n",
      "File \u001b[1;32mc:\\Users\\1\\Desktop\\3курс_1сем\\ML_autumn_2024\\hw2\\presubmit_tests.py:360\u001b[0m, in \u001b[0;36mtest_line_search\u001b[1;34m()\u001b[0m\n\u001b[0;32m    358\u001b[0m assert_almost_equal(ls_tool\u001b[38;5;241m.\u001b[39mline_search(oracle, x, d), \u001b[38;5;241m16.0\u001b[39m)\n\u001b[0;32m    359\u001b[0m ls_tool \u001b[38;5;241m=\u001b[39m optimization\u001b[38;5;241m.\u001b[39mLineSearchTool(method\u001b[38;5;241m=\u001b[39m\u001b[38;5;124m'\u001b[39m\u001b[38;5;124mWolfe\u001b[39m\u001b[38;5;124m'\u001b[39m, c1\u001b[38;5;241m=\u001b[39m\u001b[38;5;241m1e-4\u001b[39m, c2\u001b[38;5;241m=\u001b[39m\u001b[38;5;241m0.8\u001b[39m)\n\u001b[1;32m--> 360\u001b[0m \u001b[43massert_almost_equal\u001b[49m\u001b[43m(\u001b[49m\u001b[43mls_tool\u001b[49m\u001b[38;5;241;43m.\u001b[39;49m\u001b[43mline_search\u001b[49m\u001b[43m(\u001b[49m\u001b[43moracle\u001b[49m\u001b[43m,\u001b[49m\u001b[43m \u001b[49m\u001b[43mx\u001b[49m\u001b[43m,\u001b[49m\u001b[43m \u001b[49m\u001b[43md\u001b[49m\u001b[43m)\u001b[49m\u001b[43m,\u001b[49m\u001b[43m \u001b[49m\u001b[38;5;241;43m32.0\u001b[39;49m\u001b[43m)\u001b[49m\n",
      "File \u001b[1;32mc:\\Users\\1\\AppData\\Local\\Programs\\Python\\Python311\\Lib\\unittest\\case.py:927\u001b[0m, in \u001b[0;36mTestCase.assertAlmostEqual\u001b[1;34m(self, first, second, places, msg, delta)\u001b[0m\n\u001b[0;32m    921\u001b[0m     standardMsg \u001b[38;5;241m=\u001b[39m \u001b[38;5;124m'\u001b[39m\u001b[38;5;132;01m%s\u001b[39;00m\u001b[38;5;124m != \u001b[39m\u001b[38;5;132;01m%s\u001b[39;00m\u001b[38;5;124m within \u001b[39m\u001b[38;5;132;01m%r\u001b[39;00m\u001b[38;5;124m places (\u001b[39m\u001b[38;5;132;01m%s\u001b[39;00m\u001b[38;5;124m difference)\u001b[39m\u001b[38;5;124m'\u001b[39m \u001b[38;5;241m%\u001b[39m (\n\u001b[0;32m    922\u001b[0m         safe_repr(first),\n\u001b[0;32m    923\u001b[0m         safe_repr(second),\n\u001b[0;32m    924\u001b[0m         places,\n\u001b[0;32m    925\u001b[0m         safe_repr(diff))\n\u001b[0;32m    926\u001b[0m msg \u001b[38;5;241m=\u001b[39m \u001b[38;5;28mself\u001b[39m\u001b[38;5;241m.\u001b[39m_formatMessage(msg, standardMsg)\n\u001b[1;32m--> 927\u001b[0m \u001b[38;5;28;01mraise\u001b[39;00m \u001b[38;5;28mself\u001b[39m\u001b[38;5;241m.\u001b[39mfailureException(msg)\n",
      "\u001b[1;31mAssertionError\u001b[0m: 16.0 != 32.0 within 7 places (16.0 difference)"
     ]
    }
   ],
   "source": [
    "pt.test_python3()\n",
    "pt.test_QuadraticOracle()\n",
    "pt.test_log_reg_usual()\n",
    "pt.test_log_reg_oracle_calls()\n",
    "pt.test_grad_finite_diff_1()\n",
    "pt.test_grad_finite_diff_2()\n",
    "pt.test_hess_finite_diff_1()\n",
    "pt.test_hess_finite_diff_2()\n",
    "pt.test_line_search()\n",
    "pt.test_gd_basic()\n",
    "pt.test_newton_basic()\n",
    "pt.test_newton_1d()\n",
    "pt.test_newton_fail()"
   ]
  },
  {
   "cell_type": "markdown",
   "metadata": {},
   "source": [
    "Мы реализуем вычисление разностных производных с помощью функций `grad_finite_diff` и `hess_finite_diff` в модуле oracles. Для проверки корректности расчета градиента и гессиана в логистическом оракуле воспользуемся этими функциями. Сгенерируем небольшую модельную выборку (матрицу A и вектор b) и сравним результаты методов `grad` и `hess` с соответствующими разностными аппроксимациями в нескольких тестовых точках x."
   ]
  },
  {
   "cell_type": "markdown",
   "metadata": {},
   "source": [
    "Проанализируем поведение градиентного спуска на нескольких квадратичных функциях: зададим две-три двумерные квадратичные функции, для которых работа метода будет различаться, и построим графики с уровнями функций и траекториями движения методов."
   ]
  }
 ],
 "metadata": {
  "kernelspec": {
   "display_name": "Python 3",
   "language": "python",
   "name": "python3"
  },
  "language_info": {
   "codemirror_mode": {
    "name": "ipython",
    "version": 3
   },
   "file_extension": ".py",
   "mimetype": "text/x-python",
   "name": "python",
   "nbconvert_exporter": "python",
   "pygments_lexer": "ipython3",
   "version": "3.11.5"
  }
 },
 "nbformat": 4,
 "nbformat_minor": 2
}
